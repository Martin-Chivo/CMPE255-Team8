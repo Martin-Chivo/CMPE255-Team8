{
 "cells": [
  {
   "cell_type": "code",
   "execution_count": 1,
   "id": "8d8d5a04",
   "metadata": {},
   "outputs": [],
   "source": [
    "import pm4py"
   ]
  },
  {
   "cell_type": "code",
   "execution_count": 5,
   "id": "22d0b089",
   "metadata": {},
   "outputs": [
    {
     "data": {
      "application/vnd.jupyter.widget-view+json": {
       "model_id": "81afafa07d8f41b39e1cec0360ce6f93",
       "version_major": 2,
       "version_minor": 0
      },
      "text/plain": [
       "parsing log, completed traces ::   0%|          | 0/7065 [00:00<?, ?it/s]"
      ]
     },
     "metadata": {},
     "output_type": "display_data"
    },
    {
     "data": {
      "application/vnd.jupyter.widget-view+json": {
       "model_id": "5c551f65a5f34e25be586d28211cde3c",
       "version_major": 2,
       "version_minor": 0
      },
      "text/plain": [
       "parsing log, completed traces ::   0%|          | 0/6449 [00:00<?, ?it/s]"
      ]
     },
     "metadata": {},
     "output_type": "display_data"
    },
    {
     "data": {
      "application/vnd.jupyter.widget-view+json": {
       "model_id": "73bee3e3fa624b9680b03acfa8734cc1",
       "version_major": 2,
       "version_minor": 0
      },
      "text/plain": [
       "parsing log, completed traces ::   0%|          | 0/10500 [00:00<?, ?it/s]"
      ]
     },
     "metadata": {},
     "output_type": "display_data"
    },
    {
     "data": {
      "application/vnd.jupyter.widget-view+json": {
       "model_id": "afae95df3bd746c4b4deb2466f5456c4",
       "version_major": 2,
       "version_minor": 0
      },
      "text/plain": [
       "parsing log, completed traces ::   0%|          | 0/6449 [00:00<?, ?it/s]"
      ]
     },
     "metadata": {},
     "output_type": "display_data"
    },
    {
     "data": {
      "application/vnd.jupyter.widget-view+json": {
       "model_id": "b2fa58ff8af44500b8d89047ff222e5e",
       "version_major": 2,
       "version_minor": 0
      },
      "text/plain": [
       "parsing log, completed traces ::   0%|          | 0/6886 [00:00<?, ?it/s]"
      ]
     },
     "metadata": {},
     "output_type": "display_data"
    }
   ],
   "source": [
    "permitLog = pm4py.read_xes('data/original/PermitLog.xes_')\n",
    "internationalDeclarations = pm4py.read_xes('data/original/InternationalDeclarations.xes_')\n",
    "domesticDeclarations = pm4py.read_xes('data/original/DomesticDeclarations.xes_')\n",
    "internationalDeclarations = pm4py.read_xes('data/original/InternationalDeclarations.xes_')\n",
    "requestForPayment = pm4py.read_xes('data/original/RequestForPayment.xes_')"
   ]
  },
  {
   "cell_type": "code",
   "execution_count": 6,
   "id": "dcacff84",
   "metadata": {},
   "outputs": [
    {
     "data": {
      "text/plain": [
       "[{'attributes': {'OrganizationalEntity': 'organizational unit 65458', 'ProjectNumber': 'UNKNOWN', 'TaskNumber': 'UNKNOWN', 'dec_id_0': 'declaration 76457', 'ActivityNumber': 'activity 46005', 'TotalDeclared': 39.66456144659199, 'concept:name': 'travel permit 76455', 'RequestedAmount_0': '56', 'Overspent': False, 'travel permit number': 'travel permit number 76456', 'DeclarationNumber_0': 'declaration number 76458', 'id': 'travel permit 76455', 'RequestedBudget': 41.613444658859, 'BudgetNumber': 'budget 922', 'OverspentAmount': 0.0}, 'events': [{'id': 'rv_travel permit 76455_6', 'org:resource': 'STAFF MEMBER', 'concept:name': 'Start trip', 'time:timestamp': datetime.datetime(2016, 10, 5, 0, 0, tzinfo=datetime.timezone(datetime.timedelta(seconds=7200))), 'org:role': 'EMPLOYEE'}, '..', {'id': 'fd_declaration 76457_18', 'org:resource': 'SYSTEM', 'concept:name': 'Payment Handled', 'time:timestamp': datetime.datetime(2017, 4, 13, 17, 30, 53, tzinfo=datetime.timezone(datetime.timedelta(seconds=7200))), 'org:role': 'UNDEFINED'}]}, '....', {'attributes': {'ActivityNumber': 'UNKNOWN', 'TotalDeclared': 0.0, 'concept:name': 'travel permit 13108', 'OrganizationalEntity': 'organizational unit 65464', 'Overspent': False, 'travel permit number': 'travel permit number 13109', 'ProjectNumber': 'project 13110', 'TaskNumber': 'task 427', 'id': 'travel permit 13108', 'RequestedBudget': 2830.9931622975378, 'BudgetNumber': 'budget 5650', 'OverspentAmount': -2709.6679663393825}, 'events': [{'id': 'st_step 13111_0', 'org:resource': 'STAFF MEMBER', 'concept:name': 'Permit SUBMITTED by EMPLOYEE', 'time:timestamp': datetime.datetime(2018, 12, 30, 15, 6, 24, tzinfo=datetime.timezone(datetime.timedelta(seconds=3600))), 'org:role': 'EMPLOYEE'}, '..', {'id': 'rv_travel permit 13108_7', 'org:resource': 'STAFF MEMBER', 'concept:name': 'End trip', 'time:timestamp': datetime.datetime(2019, 1, 16, 0, 0, tzinfo=datetime.timezone(datetime.timedelta(seconds=3600))), 'org:role': 'EMPLOYEE'}]}]"
      ]
     },
     "execution_count": 6,
     "metadata": {},
     "output_type": "execute_result"
    }
   ],
   "source": [
    "permitLog"
   ]
  },
  {
   "cell_type": "code",
   "execution_count": null,
   "id": "2f1d52f0",
   "metadata": {},
   "outputs": [],
   "source": []
  }
 ],
 "metadata": {
  "kernelspec": {
   "display_name": "Python 3 (ipykernel)",
   "language": "python",
   "name": "python3"
  },
  "language_info": {
   "codemirror_mode": {
    "name": "ipython",
    "version": 3
   },
   "file_extension": ".py",
   "mimetype": "text/x-python",
   "name": "python",
   "nbconvert_exporter": "python",
   "pygments_lexer": "ipython3",
   "version": "3.9.10"
  }
 },
 "nbformat": 4,
 "nbformat_minor": 5
}
